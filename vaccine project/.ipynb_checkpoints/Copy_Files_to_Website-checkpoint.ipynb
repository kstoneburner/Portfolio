{
 "cells": [
  {
   "cell_type": "code",
   "execution_count": 56,
   "id": "970cc7d5",
   "metadata": {},
   "outputs": [],
   "source": [
    "\n",
    "from datetime import datetime\n",
    "from pathlib import Path\n",
    "import os\n",
    "import shutil\n",
    "\n",
    "source_folder = \"anims\"\n",
    "current_dir = Path(os.getcwd()).absolute()\n",
    "\n",
    "source_path = current_dir.joinpath(source_folder)\n",
    "\n",
    "image_path = Path(current_dir.parent.parent.parent).joinpath(\"kstoneburner.github.io\").joinpath(\"portfolio\").joinpath(\"vaccine\").joinpath(\"images\")\n",
    "js_path = Path(current_dir.parent.parent.parent).joinpath(\"kstoneburner.github.io\").joinpath(\"portfolio\").joinpath(\"vaccine\").joinpath(\"js\")\n",
    "#print(os.listdir(image_path))\n",
    "\n",
    "file_dict = {}\n",
    "\n",
    "for source_folder in os.listdir(source_path):\n",
    "    source_folder_path = source_path.joinpath(source_folder)\n",
    "    \n",
    "    #//*** Build Destination Folder if not exist\n",
    "    dest_folder_path = image_path.joinpath(source_folder)\n",
    "    if os.path.isdir(dest_folder_path) == False:\n",
    "        os.mkdir(dest_folder_path)\n",
    "        \n",
    "    \n",
    "    \n",
    "    if os.path.isdir(source_folder_path):\n",
    "        \n",
    "        files = os.listdir(source_folder_path)\n",
    "        \n",
    "        tl = []\n",
    "        \n",
    "        #//*** Verify that each file is actually a file, not a directory\n",
    "        for file in files:\n",
    "            if os.path.isfile(source_folder_path.joinpath(file)):\n",
    "                tl.append(f\"{file}\")\n",
    "                shutil.copy(source_folder_path.joinpath(file),image_path.joinpath(source_folder))\n",
    "                \n",
    "            \n",
    "        file_dict[source_folder] = tl\n",
    "        \n",
    "#//*** Build a Javascript Object\n",
    "text = \"\"\n",
    "text += \"image_paths = {\\n\"\n",
    "\n",
    "for key,value in file_dict.items():\n",
    "    \n",
    "    text += f\"\\t'{key}' : {value},\\n\"\n",
    "\n",
    "text+=\"}\\n\"\n",
    "\n",
    "#//*** Write Javascript Object to File\n",
    "with open(js_path.joinpath('image_paths.js'), 'w') as f:\n",
    "    f.write(text)\n"
   ]
  },
  {
   "cell_type": "code",
   "execution_count": 51,
   "id": "ac653d0f",
   "metadata": {},
   "outputs": [],
   "source": []
  }
 ],
 "metadata": {
  "kernelspec": {
   "display_name": "Python 3 (ipykernel)",
   "language": "python",
   "name": "python3"
  },
  "language_info": {
   "codemirror_mode": {
    "name": "ipython",
    "version": 3
   },
   "file_extension": ".py",
   "mimetype": "text/x-python",
   "name": "python",
   "nbconvert_exporter": "python",
   "pygments_lexer": "ipython3",
   "version": "3.8.13"
  }
 },
 "nbformat": 4,
 "nbformat_minor": 5
}
